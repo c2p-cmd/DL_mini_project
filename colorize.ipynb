{
 "cells": [
  {
   "cell_type": "code",
   "execution_count": null,
   "metadata": {},
   "outputs": [],
   "source": [
    "%matploblib inline\n",
    "\n",
    "import numpy as np\n",
    "import cv2 as cv\n",
    "import os.path\n",
    "from matplotlib import pyplot as plt"
   ]
  },
  {
   "cell_type": "code",
   "execution_count": null,
   "metadata": {},
   "outputs": [],
   "source": [
    "frame = cv.imread(\"./Ghost of Tsushima_20221218171641.jpg\")\n",
    "\n",
    "numpy_file = np.load('./models/pts_in_hull.npy')\n",
    "\n",
    "Caffe_net = cv.dnn.readNetFromCaffe(\"./models/colorization_deploy_v2.prototxt\", \"./models/colorization_release_v2.caffemodel\")\n",
    "\n",
    "numpy_file = numpy_file.transpose().reshape(2, 313, 1, 1)\n",
    "Caffe_net.getLayer(Caffe_net.getLayerId('class8_ab')).blobs = [numpy_file.astype(np.float32)]\n",
    "Caffe_net.getLayer(Caffe_net.getLayerId('conv8_313_rh')).blobs = [np.full([1, 313], 2.606, np.float32)]\n",
    "\n",
    "plt.imshow(frame)\n",
    "plt.show()"
   ]
  },
  {
   "cell_type": "code",
   "execution_count": null,
   "metadata": {},
   "outputs": [],
   "source": [
    "input_width = 224\n",
    "input_height = 224\n",
    "\n",
    "rgb_img = (frame[:,:,[2, 1, 0]] * 1.0 / 255).astype(np.float32)\n",
    "lab_img = cv.cvtColor(rgb_img, cv.COLOR_RGB2Lab)\n",
    "l_channel = lab_img[:,:,0] "
   ]
  },
  {
   "cell_type": "code",
   "execution_count": null,
   "metadata": {},
   "outputs": [],
   "source": [
    "l_channel_resize = cv.resize(l_channel, (input_width, input_height)) \n",
    "l_channel_resize -= 50\n",
    "\n",
    "Caffe_net.setInput(cv.dnn.blobFromImage(l_channel_resize))\n",
    "ab_channel = Caffe_net.forward()[0,:,:,:].transpose((1,2,0)) "
   ]
  },
  {
   "cell_type": "code",
   "execution_count": null,
   "metadata": {},
   "outputs": [],
   "source": [
    "(original_height,original_width) = rgb_img.shape[:2] \n",
    "ab_channel_us = cv.resize(ab_channel, (original_width, original_height))\n",
    "lab_output = np.concatenate((l_channel[:,:,np.newaxis],ab_channel_us),axis=2) \n",
    "bgr_output = np.clip(cv.cvtColor(lab_output, cv.COLOR_Lab2BGR), 0, 1)"
   ]
  },
  {
   "cell_type": "code",
   "execution_count": null,
   "metadata": {},
   "outputs": [],
   "source": [
    "cv.imwrite(\"./result.png\", (bgr_output*255).astype(np.uint8))\n",
    "frame = cv.imread(\"./result.png\")\n",
    "plt.imshow(frame)\n",
    "plt.show()"
   ]
  }
 ],
 "metadata": {
  "kernelspec": {
   "display_name": "venv",
   "language": "python",
   "name": "python3"
  },
  "language_info": {
   "name": "python",
   "version": "3.9.10"
  },
  "orig_nbformat": 4
 },
 "nbformat": 4,
 "nbformat_minor": 2
}
